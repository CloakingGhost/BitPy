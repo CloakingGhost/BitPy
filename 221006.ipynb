{
  "nbformat": 4,
  "nbformat_minor": 0,
  "metadata": {
    "colab": {
      "provenance": [],
      "collapsed_sections": [],
      "include_colab_link": true
    },
    "kernelspec": {
      "name": "python3",
      "display_name": "Python 3"
    },
    "language_info": {
      "name": "python"
    }
  },
  "cells": [
    {
      "cell_type": "markdown",
      "metadata": {
        "id": "view-in-github",
        "colab_type": "text"
      },
      "source": [
        "<a href=\"https://colab.research.google.com/github/CloakingGhost/BitPy/blob/main/221006.ipynb\" target=\"_parent\"><img src=\"https://colab.research.google.com/assets/colab-badge.svg\" alt=\"Open In Colab\"/></a>"
      ]
    },
    {
      "cell_type": "markdown",
      "source": [
        "평균, 중간값, 사분위값, 최빈값, 분산, 표준편차, 공분산, 상관계수"
      ],
      "metadata": {
        "id": "nCkJt14j7hED"
      }
    },
    {
      "cell_type": "code",
      "source": [
        "import numpy as np"
      ],
      "metadata": {
        "id": "Fby8AWIa7iMv"
      },
      "execution_count": null,
      "outputs": []
    },
    {
      "cell_type": "code",
      "source": [
        "heights = np.random.normal(161.4, 4, 200) #평균 161.4 표준편차 4, 표본 200개 생성\n",
        "print(heights)\n",
        "bmis = np.random.normal(21, 2, 200) #평균 21, 표준편차2, 표본 200개 생성\n",
        "weights = bmis * (heights**2)/10000 # 키와 bmi지수를 이용하여 몸무게 200개 생성"
      ],
      "metadata": {
        "id": "7hotyN_K7iuu"
      },
      "execution_count": null,
      "outputs": []
    },
    {
      "cell_type": "code",
      "source": [
        "print(\"===키===\")\n",
        "print(\"평균 : \",heights.mean())\n",
        "print(\"중간값 : \",np.median(heights))\n",
        "print(\"1/4분위값 : \",np.quantile(heights,0.25))\n",
        "print(\"2/4분위값 : \",np.quantile(heights,0.5))\n",
        "print(\"3/4분위값 : \",np.quantile(heights,0.75))\n",
        "hist,bins = np.histogram(heights, bins=[x/2 for x in range(145*2,180*2,5)])\n",
        "print(hist)\n",
        "print(bins)\n",
        "astart = hist.argmax()\n",
        "aend = astart + 1\n",
        "print(f\"최빈 구간 : {bins[astart]}~{bins[aend]} , 개수 : {hist.max()}\")\n",
        "print(\"분산 : \",np.var(heights))\n",
        "print(\"표준편차 : \",np.std(heights))"
      ],
      "metadata": {
        "colab": {
          "base_uri": "https://localhost:8080/"
        },
        "id": "9h3REZ4p8M6M",
        "outputId": "67b3d474-7378-45b2-e8b4-8d8c19d7f2d3"
      },
      "execution_count": null,
      "outputs": [
        {
          "output_type": "stream",
          "name": "stdout",
          "text": [
            "===키===\n",
            "평균 :  161.28533531188188\n",
            "중간값 :  161.24347094534704\n",
            "1/4분위값 :  158.80479336552878\n",
            "2/4분위값 :  161.24347094534704\n",
            "3/4분위값 :  163.66850417572792\n",
            "[ 0  1  1 12 21 38 58 32 23 10  4  0  0]\n",
            "[145.  147.5 150.  152.5 155.  157.5 160.  162.5 165.  167.5 170.  172.5\n",
            " 175.  177.5]\n",
            "최빈 구간 : 160.0~162.5 , 개수 : 58\n",
            "분산 :  16.336416513075743\n",
            "표준편차 :  4.041833310896894\n"
          ]
        }
      ]
    },
    {
      "cell_type": "code",
      "source": [
        "print(\"{0:05x} {1} {2}\".format(12,34,55))\n",
        "a=12\n",
        "b=34\n",
        "c=55\n",
        "print(f\"{a:05x} {b} {c}\")"
      ],
      "metadata": {
        "id": "lECkJf_686tr"
      },
      "execution_count": null,
      "outputs": []
    },
    {
      "cell_type": "code",
      "source": [
        "cv = np.cov(heights,weights)\n",
        "print(\"공분산(키    ,키    ) : \",cv[0,0])\n",
        "print(\"공분산(키,몸무게    ) : \",cv[0,1])\n",
        "print(\"공분산(몸무게,키    ) : \",cv[1,0])\n",
        "print(\"공분산(몸무게,몸무게) : \",cv[1,1])"
      ],
      "metadata": {
        "colab": {
          "base_uri": "https://localhost:8080/"
        },
        "id": "tPLnfWzg8zxE",
        "outputId": "77ad3d9a-e552-43b5-c877-4b9619b35037"
      },
      "execution_count": null,
      "outputs": [
        {
          "output_type": "stream",
          "name": "stdout",
          "text": [
            "공분산(키    ,키    ) :  16.418509058367572\n",
            "공분산(키,몸무게    ) :  10.355404782417793\n",
            "공분산(몸무게,키    ) :  10.355404782417793\n",
            "공분산(몸무게,몸무게) :  34.81182693166707\n"
          ]
        }
      ]
    },
    {
      "cell_type": "code",
      "source": [
        "std_h = heights.std()\n",
        "std_w = weights.std()\n",
        "print(\"상관계수(키,몸무게) : \",np.cov(heights,weights)[0,1]/(std_h*std_w))"
      ],
      "metadata": {
        "colab": {
          "base_uri": "https://localhost:8080/"
        },
        "id": "5R3eGYvt8cTM",
        "outputId": "afd98419-a888-486f-ac57-13c8e8044135"
      },
      "execution_count": null,
      "outputs": [
        {
          "output_type": "stream",
          "name": "stdout",
          "text": [
            "상관계수(키,몸무게) :  0.4353251242295135\n"
          ]
        }
      ]
    },
    {
      "cell_type": "code",
      "source": [
        "def correl(x,y):\n",
        "  std_x = x.std()\n",
        "  std_y = y.std()\n",
        "  if std_x>0 and std_y>0:\n",
        "    return np.cov(x,y)[0,1]/(std_x*std_y)\n",
        "    "
      ],
      "metadata": {
        "id": "90DZ5ry57oTu"
      },
      "execution_count": null,
      "outputs": []
    },
    {
      "cell_type": "code",
      "source": [
        "print(\"상관계수(키,몸무게) : \",correl(heights,weights))"
      ],
      "metadata": {
        "colab": {
          "base_uri": "https://localhost:8080/"
        },
        "id": "MiTFzORyDkgk",
        "outputId": "d5305987-285e-4ac9-c129-0316dce25aae"
      },
      "execution_count": null,
      "outputs": [
        {
          "output_type": "stream",
          "name": "stdout",
          "text": [
            "상관계수(키,몸무게) :  0.4353251242295135\n"
          ]
        }
      ]
    },
    {
      "cell_type": "markdown",
      "source": [
        "**확률과 통계**\n",
        "독립사건, 정규분포, 중심극한정리"
      ],
      "metadata": {
        "id": "HqdskCXPIzZF"
      }
    },
    {
      "cell_type": "code",
      "source": [
        "# P(A) : 사건 A가 발생할 확률\n",
        "# P(B) : 사건 B가 발생할 확률\n",
        "# P(A|B) : 사건 B가 발생한 상태에서 사건 A가 발생할 확률\n",
        "# P(A and B) : 사건 A와 사건 B가 모두 발생할 확률\n",
        "# 만약 사건 A와 사건 B가 서로 영향을 주지 않으면 독립 사건이라 한다.\n",
        "# P(A|B) = P(A) 일때, 사건 A와 사건 B는 독립 사건이다.\n",
        "# A와 B가 독립 사건일 때 P(A and B) = P(A) * P(B) 공식이 성립한다."
      ],
      "metadata": {
        "id": "TwbQiCRxI40Y"
      },
      "execution_count": null,
      "outputs": []
    },
    {
      "cell_type": "code",
      "source": [
        "import math"
      ],
      "metadata": {
        "id": "CiPs7pRQKNf_"
      },
      "execution_count": null,
      "outputs": []
    },
    {
      "cell_type": "code",
      "source": [
        "pa = 1/2 #동전을 던져서 앞면이 나올 확률\n",
        "pb = 1/6 #주사위를 던져서 1이 나올 확률\n",
        "pab = pa*pb\n",
        "print(pab)\n",
        "logit_pab = math.log(pa) + math.log(pb)\n",
        "inv_logit_pab = math.exp(logit_pab)\n",
        "print(inv_logit_pab)"
      ],
      "metadata": {
        "colab": {
          "base_uri": "https://localhost:8080/"
        },
        "id": "43EwQIdpKPPM",
        "outputId": "cd0c962d-7752-4d53-8ffc-ebc155594cd8"
      },
      "execution_count": null,
      "outputs": [
        {
          "output_type": "stream",
          "name": "stdout",
          "text": [
            "0.08333333333333333\n",
            "0.08333333333333333\n"
          ]
        }
      ]
    },
    {
      "cell_type": "code",
      "source": [
        "#균등분포 : 사건이 발생할 확률이 모두 같게 분포\n",
        "def uniform_pdf(x,min_v=0, max_v=1):\n",
        "  if(min_v<=x<=max_v):\n",
        "    return 1/(max_v-min_v+1)\n",
        "  return 0"
      ],
      "metadata": {
        "id": "u6iT947RMiCC"
      },
      "execution_count": null,
      "outputs": []
    },
    {
      "cell_type": "code",
      "source": [
        "print(uniform_pdf(1,1,6)) # 1에서 6사이의 수로 구성한 균등분포에서 1이 나올 확률\n",
        "print(uniform_pdf(2,1,6)) # 1에서 6사이의 수로 구성한 균등분포에서 2이 나올 확률\n",
        "print(uniform_pdf(3,1,6)) # 1에서 6사이의 수로 구성한 균등분포에서 3이 나올 확률\n",
        "print(uniform_pdf(4,1,6)) # 1에서 6사이의 수로 구성한 균등분포에서 4이 나올 확률\n",
        "print(uniform_pdf(5,1,6)) # 1에서 6사이의 수로 구성한 균등분포에서 5이 나올 확률\n",
        "print(uniform_pdf(6,1,6)) # 1에서 6사이의 수로 구성한 균등분포에서 6이 나올 확률"
      ],
      "metadata": {
        "colab": {
          "base_uri": "https://localhost:8080/"
        },
        "id": "Ezk-s9CXM0bH",
        "outputId": "0b37aa26-1a61-4500-802e-7d0a1cc22d67"
      },
      "execution_count": null,
      "outputs": [
        {
          "output_type": "stream",
          "name": "stdout",
          "text": [
            "0.16666666666666666\n",
            "0.16666666666666666\n",
            "0.16666666666666666\n",
            "0.16666666666666666\n",
            "0.16666666666666666\n",
            "0.16666666666666666\n"
          ]
        }
      ]
    },
    {
      "cell_type": "code",
      "source": [
        "# 누적균등분포 : 균등분포에서 누적값\n",
        "def uniform_cdf(x, min_v = 0, max_v = 1):\n",
        "  if x<min_v:\n",
        "    return 0 \n",
        "  if min_v<=x<=max_v:\n",
        "    return (x-min_v+1)/(max_v-min_v+1)\n",
        "  return 1"
      ],
      "metadata": {
        "id": "qH0apTPDNEXG"
      },
      "execution_count": null,
      "outputs": []
    },
    {
      "cell_type": "code",
      "source": [
        "print(uniform_cdf(1,1,6)) # 1에서 6사이의 수로 구성한 균등분포에서 1이 이하가 나올 확률\n",
        "print(uniform_cdf(2,1,6)) # 1에서 6사이의 수로 구성한 균등분포에서 2이 이하가 나올 확률\n",
        "print(uniform_cdf(3,1,6)) # 1에서 6사이의 수로 구성한 균등분포에서 3이 이하가 나올 확률\n",
        "print(uniform_cdf(4,1,6)) # 1에서 6사이의 수로 구성한 균등분포에서 4이 이하가 나올 확률\n",
        "print(uniform_cdf(5,1,6)) # 1에서 6사이의 수로 구성한 균등분포에서 5이 이하가 나올 확률\n",
        "print(uniform_cdf(6,1,6)) # 1에서 6사이의 수로 구성한 균등분포에서 6이 이하가 나올 확률"
      ],
      "metadata": {
        "colab": {
          "base_uri": "https://localhost:8080/"
        },
        "id": "fs0C35y7MgyE",
        "outputId": "4e522577-d4ff-4381-e5e7-da7dfd4c006c"
      },
      "execution_count": null,
      "outputs": [
        {
          "output_type": "stream",
          "name": "stdout",
          "text": [
            "0.16666666666666666\n",
            "0.3333333333333333\n",
            "0.5\n",
            "0.6666666666666666\n",
            "0.8333333333333334\n",
            "1.0\n"
          ]
        }
      ]
    },
    {
      "cell_type": "code",
      "source": [
        "import matplotlib.pyplot as plt"
      ],
      "metadata": {
        "id": "2_tZ7qe-Kc_L"
      },
      "execution_count": null,
      "outputs": []
    },
    {
      "cell_type": "markdown",
      "source": [],
      "metadata": {
        "id": "8neuwkVFS4Ua"
      }
    },
    {
      "cell_type": "code",
      "source": [
        "xs = [x for x in range(-10,10)]\n",
        "pys = [uniform_pdf(x, 1, 6) for x in xs]\n",
        "cys = [uniform_cdf(x, 1, 6) for x in xs]\n",
        "print(xs)\n",
        "print(pys)\n",
        "print(cys)"
      ],
      "metadata": {
        "colab": {
          "base_uri": "https://localhost:8080/"
        },
        "id": "D2TPNXwBOJp3",
        "outputId": "b44b2ca6-9f5f-4eea-811a-2c8efb65da0a"
      },
      "execution_count": null,
      "outputs": [
        {
          "output_type": "stream",
          "name": "stdout",
          "text": [
            "[-10, -9, -8, -7, -6, -5, -4, -3, -2, -1, 0, 1, 2, 3, 4, 5, 6, 7, 8, 9]\n",
            "[0, 0, 0, 0, 0, 0, 0, 0, 0, 0, 0, 0.16666666666666666, 0.16666666666666666, 0.16666666666666666, 0.16666666666666666, 0.16666666666666666, 0.16666666666666666, 0, 0, 0]\n",
            "[0, 0, 0, 0, 0, 0, 0, 0, 0, 0, 0, 0.16666666666666666, 0.3333333333333333, 0.5, 0.6666666666666666, 0.8333333333333334, 1.0, 1, 1, 1]\n"
          ]
        }
      ]
    },
    {
      "cell_type": "code",
      "source": [
        "fig,ax = plt.subplots(1,2) #1 X 2 도면을 만들어 주세요.\n",
        "ax[0].plot(xs,pys,\"b.\",label=\"pdf\")\n",
        "ax[1].plot(xs,cys,\"r.\",label=\"cdf\")\n",
        "plt.show()"
      ],
      "metadata": {
        "colab": {
          "base_uri": "https://localhost:8080/",
          "height": 269
        },
        "id": "EeZRxwk5PJfB",
        "outputId": "8cc5ecb1-687e-4bd1-eada-8baa1ff0639b"
      },
      "execution_count": null,
      "outputs": [
        {
          "output_type": "display_data",
          "data": {
            "text/plain": [
              "<Figure size 432x288 with 2 Axes>"
            ],
            "image/png": "[encoded data removed]"
          },
          "metadata": {
            "needs_background": "light"
          }
        }
      ]
    },
    {
      "cell_type": "code",
      "source": [
        "#정규분포함수\n",
        "def normal_pdf(x,mu=0,sigma=1):\n",
        "  pre = 1/(sigma*math.sqrt(2*math.pi))\n",
        "  post = math.exp(-((x-mu)**2)/(2*sigma**2))\n",
        "  return pre*post"
      ],
      "metadata": {
        "id": "gVrVnwbJPDeB"
      },
      "execution_count": null,
      "outputs": []
    },
    {
      "cell_type": "code",
      "source": [
        "xs = [x/10.0 for x in range(-50,51)]\n",
        "print(xs)\n",
        "ys1 = [normal_pdf(x) for x in xs]\n",
        "ys2 = [normal_pdf(x,sigma=0.2) for x in xs]\n",
        "ys3 = [normal_pdf(x,sigma=2.0) for x in xs]\n",
        "ys4 = [normal_pdf(x,mu=-2,sigma=0.5) for x in xs]\n",
        "ys5 = [normal_pdf(x,mu=-2,sigma=1) for x in xs]\n",
        "# plt.figure(figsize=(6,4))\n",
        "plt.plot(xs,ys1,'-',label='mu=0, gigma=1')\n",
        "plt.plot(xs,ys2,'--',label='mu=0, gigma=0.2')\n",
        "plt.plot(xs,ys3,':',label='mu=0, gigma=2.0')\n",
        "plt.plot(xs,ys4,'-.',label='mu=-2, gigma=0.5')\n",
        "plt.plot(xs,ys5,'-.',label='mu=-2, gigma=1')\n",
        "plt.legend()\n",
        "plt.show()"
      ],
      "metadata": {
        "colab": {
          "base_uri": "https://localhost:8080/",
          "height": 303
        },
        "id": "T0ZHRIhaVIKt",
        "outputId": "84eb3a94-130c-4f14-f6de-4b0672c2f0b6"
      },
      "execution_count": null,
      "outputs": [
        {
          "output_type": "stream",
          "name": "stdout",
          "text": [
            "[-5.0, -4.9, -4.8, -4.7, -4.6, -4.5, -4.4, -4.3, -4.2, -4.1, -4.0, -3.9, -3.8, -3.7, -3.6, -3.5, -3.4, -3.3, -3.2, -3.1, -3.0, -2.9, -2.8, -2.7, -2.6, -2.5, -2.4, -2.3, -2.2, -2.1, -2.0, -1.9, -1.8, -1.7, -1.6, -1.5, -1.4, -1.3, -1.2, -1.1, -1.0, -0.9, -0.8, -0.7, -0.6, -0.5, -0.4, -0.3, -0.2, -0.1, 0.0, 0.1, 0.2, 0.3, 0.4, 0.5, 0.6, 0.7, 0.8, 0.9, 1.0, 1.1, 1.2, 1.3, 1.4, 1.5, 1.6, 1.7, 1.8, 1.9, 2.0, 2.1, 2.2, 2.3, 2.4, 2.5, 2.6, 2.7, 2.8, 2.9, 3.0, 3.1, 3.2, 3.3, 3.4, 3.5, 3.6, 3.7, 3.8, 3.9, 4.0, 4.1, 4.2, 4.3, 4.4, 4.5, 4.6, 4.7, 4.8, 4.9, 5.0]\n"
          ]
        },
        {
          "output_type": "display_data",
          "data": {
            "text/plain": [
              "<Figure size 432x288 with 1 Axes>"
            ],
            "image/png": "[encoded data removed]"
          },
          "metadata": {
            "needs_background": "light"
          }
        }
      ]
    },
    {
      "cell_type": "code",
      "source": [
        "import scipy.stats as st\n",
        "xs = [x/10.0 for x in range(-50,51)]\n",
        "print(xs)\n",
        "ys1 = [st.norm.pdf(x) for x in xs]\n",
        "ys2 = [st.norm.pdf(x,scale=0.2) for x in xs]\n",
        "ys3 = [st.norm.pdf(x,scale=2.0) for x in xs]\n",
        "ys4 = [st.norm.pdf(x,loc=-2,scale=0.5) for x in xs]\n",
        "ys5 = [st.norm.pdf(x,loc=-2,scale=1) for x in xs]\n",
        "# plt.figure(figsize=(6,4))\n",
        "plt.plot(xs,ys1,'-',label='mu=0, gigma=1')\n",
        "plt.plot(xs,ys2,'--',label='mu=0, gigma=0.2')\n",
        "plt.plot(xs,ys3,':',label='mu=0, gigma=2.0')\n",
        "plt.plot(xs,ys4,'-.',label='mu=-2, gigma=0.5')\n",
        "plt.plot(xs,ys5,'-.',label='mu=-2, gigma=1')\n",
        "plt.legend()\n",
        "plt.show()"
      ],
      "metadata": {
        "colab": {
          "base_uri": "https://localhost:8080/",
          "height": 303
        },
        "id": "rX20gm_3XLG3",
        "outputId": "ef44688e-7e38-4f45-b4cc-0aacff028379"
      },
      "execution_count": null,
      "outputs": [
        {
          "output_type": "stream",
          "name": "stdout",
          "text": [
            "[-5.0, -4.9, -4.8, -4.7, -4.6, -4.5, -4.4, -4.3, -4.2, -4.1, -4.0, -3.9, -3.8, -3.7, -3.6, -3.5, -3.4, -3.3, -3.2, -3.1, -3.0, -2.9, -2.8, -2.7, -2.6, -2.5, -2.4, -2.3, -2.2, -2.1, -2.0, -1.9, -1.8, -1.7, -1.6, -1.5, -1.4, -1.3, -1.2, -1.1, -1.0, -0.9, -0.8, -0.7, -0.6, -0.5, -0.4, -0.3, -0.2, -0.1, 0.0, 0.1, 0.2, 0.3, 0.4, 0.5, 0.6, 0.7, 0.8, 0.9, 1.0, 1.1, 1.2, 1.3, 1.4, 1.5, 1.6, 1.7, 1.8, 1.9, 2.0, 2.1, 2.2, 2.3, 2.4, 2.5, 2.6, 2.7, 2.8, 2.9, 3.0, 3.1, 3.2, 3.3, 3.4, 3.5, 3.6, 3.7, 3.8, 3.9, 4.0, 4.1, 4.2, 4.3, 4.4, 4.5, 4.6, 4.7, 4.8, 4.9, 5.0]\n"
          ]
        },
        {
          "output_type": "display_data",
          "data": {
            "text/plain": [
              "<Figure size 432x288 with 1 Axes>"
            ],
            "image/png": "[encoded data removed]"
          },
          "metadata": {
            "needs_background": "light"
          }
        }
      ]
    },
    {
      "cell_type": "code",
      "source": [
        "def normal_cdf(x,mu=0,sigma=1): # 정규누적분포\n",
        " return (1+(math.erf( (x-mu) /  (math.sqrt(2)*sigma))    ))/2"
      ],
      "metadata": {
        "id": "a_f8jiPPZzIS"
      },
      "execution_count": null,
      "outputs": []
    },
    {
      "cell_type": "code",
      "source": [
        "xs = [x/10.0 for x in range(-50,51)]\n",
        "print(xs)\n",
        "ys1 = [normal_cdf(x) for x in xs]\n",
        "ys2 = [normal_cdf(x,sigma=0.2) for x in xs]\n",
        "ys3 = [normal_cdf(x,sigma=2.0) for x in xs]\n",
        "ys4 = [normal_cdf(x,mu=-2,sigma=0.5) for x in xs]\n",
        "ys5 = [normal_cdf(x,mu=-2,sigma=1) for x in xs]\n",
        "# plt.figure(figsize=(6,4))\n",
        "plt.plot(xs,ys1,'-',label='mu=0, gigma=1')\n",
        "plt.plot(xs,ys2,'--',label='mu=0, gigma=0.2')\n",
        "plt.plot(xs,ys3,':',label='mu=0, gigma=2.0')\n",
        "plt.plot(xs,ys4,'-.',label='mu=-2, gigma=0.5')\n",
        "plt.plot(xs,ys5,'-.',label='mu=-2, gigma=1')\n",
        "plt.legend()\n",
        "plt.show()"
      ],
      "metadata": {
        "colab": {
          "base_uri": "https://localhost:8080/",
          "height": 303
        },
        "id": "vWneUnCwa2_z",
        "outputId": "b810eb2b-935d-40ef-9ff1-c9ce91d11f53"
      },
      "execution_count": null,
      "outputs": [
        {
          "output_type": "stream",
          "name": "stdout",
          "text": [
            "[-5.0, -4.9, -4.8, -4.7, -4.6, -4.5, -4.4, -4.3, -4.2, -4.1, -4.0, -3.9, -3.8, -3.7, -3.6, -3.5, -3.4, -3.3, -3.2, -3.1, -3.0, -2.9, -2.8, -2.7, -2.6, -2.5, -2.4, -2.3, -2.2, -2.1, -2.0, -1.9, -1.8, -1.7, -1.6, -1.5, -1.4, -1.3, -1.2, -1.1, -1.0, -0.9, -0.8, -0.7, -0.6, -0.5, -0.4, -0.3, -0.2, -0.1, 0.0, 0.1, 0.2, 0.3, 0.4, 0.5, 0.6, 0.7, 0.8, 0.9, 1.0, 1.1, 1.2, 1.3, 1.4, 1.5, 1.6, 1.7, 1.8, 1.9, 2.0, 2.1, 2.2, 2.3, 2.4, 2.5, 2.6, 2.7, 2.8, 2.9, 3.0, 3.1, 3.2, 3.3, 3.4, 3.5, 3.6, 3.7, 3.8, 3.9, 4.0, 4.1, 4.2, 4.3, 4.4, 4.5, 4.6, 4.7, 4.8, 4.9, 5.0]\n"
          ]
        },
        {
          "output_type": "display_data",
          "data": {
            "text/plain": [
              "<Figure size 432x288 with 1 Axes>"
            ],
            "image/png": "[encoded data removed]"
          },
          "metadata": {
            "needs_background": "light"
          }
        }
      ]
    },
    {
      "cell_type": "code",
      "source": [
        "def ber_trial(p):\n",
        "  return 1 if np.random.random()<p else 0\n",
        "  # 베르누이"
      ],
      "metadata": {
        "id": "KNweBNqubaZh"
      },
      "execution_count": null,
      "outputs": []
    },
    {
      "cell_type": "code",
      "source": [
        "cnt =0\n",
        "for _ in range(120):\n",
        "  re = ber_trial(1/6)\n",
        "  print(re,end=' ')\n",
        "  if re ==1:\n",
        "    cnt+=1\n",
        "print()\n",
        "print(cnt)"
      ],
      "metadata": {
        "colab": {
          "base_uri": "https://localhost:8080/"
        },
        "id": "2LEXGXkBbigI",
        "outputId": "841ee2dd-eefd-45a8-9a60-66b0f3e6a52b"
      },
      "execution_count": null,
      "outputs": [
        {
          "output_type": "stream",
          "name": "stdout",
          "text": [
            "1 0 0 0 0 0 0 0 0 0 0 0 0 0 0 0 0 0 0 0 0 0 1 0 0 0 0 1 0 0 0 0 0 1 0 0 0 0 0 0 0 0 0 0 0 0 0 0 1 0 1 0 0 0 0 1 0 0 0 0 0 0 1 0 0 0 0 0 0 0 0 0 0 1 0 0 0 0 0 0 0 1 0 1 0 0 0 1 0 1 0 0 0 0 1 0 0 0 0 0 0 0 1 0 0 0 0 0 0 0 0 0 0 0 0 0 0 0 0 0 \n",
            "15\n"
          ]
        }
      ]
    },
    {
      "cell_type": "code",
      "source": [
        "def ber(n,p): # p확률의 사건을 n번 시행\n",
        "  return sum(ber_trial(p) for _ in range(n))"
      ],
      "metadata": {
        "id": "QDF_mIdAcB2j"
      },
      "execution_count": null,
      "outputs": []
    },
    {
      "cell_type": "code",
      "source": [
        "for _ in range(20):\n",
        "  print(ber (120,1/6),end=\", \")"
      ],
      "metadata": {
        "colab": {
          "base_uri": "https://localhost:8080/"
        },
        "id": "EQ3uIflxcag1",
        "outputId": "4a3d47bd-56ac-4978-c9fd-a55b2bc43fa5"
      },
      "execution_count": null,
      "outputs": [
        {
          "output_type": "stream",
          "name": "stdout",
          "text": [
            "19, 9, 20, 21, 18, 20, 16, 18, 21, 17, 18, 14, 20, 25, 16, 23, 14, 22, 15, 18, "
          ]
        }
      ]
    },
    {
      "cell_type": "code",
      "source": [
        "from collections import Counter"
      ],
      "metadata": {
        "id": "d1wE5K3idVtl"
      },
      "execution_count": null,
      "outputs": []
    },
    {
      "cell_type": "code",
      "source": [
        "def ber_hist(p,n,nps): #p확률의 사건을 n번 시행하는 실험을 nps번 수행\n",
        "  data=[ ber(n,p) for _ in range(nps) ]\n",
        "  hist = Counter(data)\n",
        "\n",
        "  mu = n*p #기대값\n",
        "  sigma = math.sqrt(n*p*(1-p)) #표준편차\n",
        "\n",
        "  xs = range(min(data),max(data),1)\n",
        "  ys1 = [normal_pdf(i,mu,sigma) for i in xs]\n",
        "  # ys2 = [normal_cdf(i,mu,sigma) for i in xs]\n",
        "  plt.bar(hist.keys(),[v/nps for v in hist.values()],color='r')\n",
        "  plt.plot(xs,ys1)\n",
        "  # plt.plot(xs,ys1,ys2)\n",
        "  plt.title(\"ber histogram\")\n",
        "  plt.show()\n",
        "  return data"
      ],
      "metadata": {
        "id": "NC8peWlfc6Gv"
      },
      "execution_count": null,
      "outputs": []
    },
    {
      "cell_type": "code",
      "source": [
        "data = ber_hist(1/6,1200,12000)"
      ],
      "metadata": {
        "colab": {
          "base_uri": "https://localhost:8080/",
          "height": 281
        },
        "id": "QvX5qqYIfNJD",
        "outputId": "d519545e-9b5f-462c-c5a0-135e780fca9f"
      },
      "execution_count": null,
      "outputs": [
        {
          "output_type": "display_data",
          "data": {
            "text/plain": [
              "<Figure size 432x288 with 1 Axes>"
            ],
            "image/png": "[encoded data removed]"
          },
          "metadata": {
            "needs_background": "light"
          }
        }
      ]
    }
  ]
}