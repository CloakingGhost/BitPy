{
  "nbformat": 4,
  "nbformat_minor": 0,
  "metadata": {
    "colab": {
      "provenance": [],
      "collapsed_sections": [],
      "authorship_tag": "ABX9TyMMsZMOawsllU1Q7THUyig1",
      "include_colab_link": true
    },
    "kernelspec": {
      "name": "python3",
      "display_name": "Python 3"
    },
    "language_info": {
      "name": "python"
    }
  },
  "cells": [
    {
      "cell_type": "markdown",
      "metadata": {
        "id": "view-in-github",
        "colab_type": "text"
      },
      "source": [
        "<a href=\"https://colab.research.google.com/github/CloakingGhost/BitPy/blob/main/221006.ipynb\" target=\"_parent\"><img src=\"https://colab.research.google.com/assets/colab-badge.svg\" alt=\"Open In Colab\"/></a>"
      ]
    },
    {
      "cell_type": "markdown",
      "source": [
        "https://numpy.org/doc/stable/user/whatisnumpy.html"
      ],
      "metadata": {
        "id": "AxC4EPdRszr6"
      }
    },
    {
      "cell_type": "code",
      "source": [
        "#numpy 모듈을 사용하기 위한 import문\n",
        "import numpy as np"
      ],
      "metadata": {
        "id": "lcBPuUZItcFs"
      },
      "execution_count": null,
      "outputs": []
    },
    {
      "cell_type": "code",
      "source": [
        "ls = [1,2,3,4,5]\n",
        "arr = np.array(ls)\n",
        "print(arr)\n",
        "print(type(arr))# 다차원 배열을 포현하는 타입이 ndarray"
      ],
      "metadata": {
        "colab": {
          "base_uri": "https://localhost:8080/"
        },
        "id": "pU3IUdbruC5V",
        "outputId": "3e45dcfe-4170-4be2-bf0e-3252a26cbfd9"
      },
      "execution_count": null,
      "outputs": [
        {
          "output_type": "stream",
          "name": "stdout",
          "text": [
            "[1 2 3 4 5]\n",
            "<class 'numpy.ndarray'>\n"
          ]
        }
      ]
    },
    {
      "cell_type": "code",
      "source": [
        "ls1 = [1,2,3]\n",
        "ls2 = [4,7,2]\n",
        "ls3 = ls1+ls2\n",
        "print(ls3) # 파이썬 리스트의 합은 concat"
      ],
      "metadata": {
        "id": "kA5SYi_Jue_p",
        "colab": {
          "base_uri": "https://localhost:8080/"
        },
        "outputId": "b04a62c1-7bfd-4d8c-cb97-4b259013e3df"
      },
      "execution_count": null,
      "outputs": [
        {
          "output_type": "stream",
          "name": "stdout",
          "text": [
            "[1, 2, 3, 4, 7, 2]\n"
          ]
        }
      ]
    },
    {
      "cell_type": "code",
      "source": [
        "arr1 =np.array(ls1)\n",
        "arr2=np.array(ls2)\n",
        "arr3=arr1+arr2\n",
        "print(arr3)#numpy의 +연산은 행렬의 +연산을 수행"
      ],
      "metadata": {
        "id": "qR8Djy_bvp5U"
      },
      "execution_count": null,
      "outputs": []
    },
    {
      "cell_type": "code",
      "source": [
        "ls=1,2,3,\n",
        "ls2= ls*3\n",
        "print(ls2)"
      ],
      "metadata": {
        "id": "nXA67w8AwCQp"
      },
      "execution_count": null,
      "outputs": []
    },
    {
      "cell_type": "code",
      "source": [
        "arr = np.array[ls]\n",
        "arr2 = arr*3\n",
        "print(arr2)#numpy의 ndarray*(정수)는 (행렬)*(정수) 연산을 수행"
      ],
      "metadata": {
        "id": "SXHRkUpmwY4j"
      },
      "execution_count": null,
      "outputs": []
    },
    {
      "cell_type": "markdown",
      "source": [
        "모든 요소에 똑같은 연산을 수행하는 것이 브로드캐스팅\n",
        "데이터를 분석을토대로 뭘해야하는지까지 상관계수를 찾는것은 필수적이다 A와B의 관계를 찾아야한다\n",
        "\n",
        "\n",
        "###평균\n",
        "실제값과 오차가 최소가 되는값 = 참값 = 대표값\n",
        "\n",
        "###분위값\n",
        "전체적 데이터 중 이상값은 버리고 통계를 낼것인지 말것인지 확인\n",
        "\n",
        "###표준편차, 분산"
      ],
      "metadata": {
        "id": "48Zqzt0tw8zQ"
      }
    },
    {
      "cell_type": "markdown",
      "source": [
        "---\n",
        "- %%time을 마킹하면 수행시간을 측청해줍니다"
      ],
      "metadata": {
        "id": "IRm0ZVQk39Sn"
      }
    },
    {
      "cell_type": "code",
      "source": [
        "%%time \n",
        "arr = np.arange(100000)"
      ],
      "metadata": {
        "colab": {
          "base_uri": "https://localhost:8080/"
        },
        "id": "8vaR9X063QT9",
        "outputId": "63cee993-75b7-4458-e849-3f45c3cff61e"
      },
      "execution_count": null,
      "outputs": [
        {
          "output_type": "stream",
          "name": "stdout",
          "text": [
            "CPU times: user 326 µs, sys: 0 ns, total: 326 µs\n",
            "Wall time: 336 µs\n"
          ]
        }
      ]
    },
    {
      "cell_type": "code",
      "source": [
        "%%time\n",
        "arr = list(range(100000))"
      ],
      "metadata": {
        "colab": {
          "base_uri": "https://localhost:8080/"
        },
        "id": "hqzKHwR93Tbt",
        "outputId": "bcf4a757-38da-46f8-b064-6c59bc7c98b4"
      },
      "execution_count": null,
      "outputs": [
        {
          "output_type": "stream",
          "name": "stdout",
          "text": [
            "CPU times: user 4.19 ms, sys: 3.13 ms, total: 7.32 ms\n",
            "Wall time: 8.95 ms\n"
          ]
        }
      ]
    },
    {
      "cell_type": "code",
      "source": [
        "arr = np.random.randn(2,3) # 2X3 행렬을 생성(원소를 랜덤하게 생성)\n",
        "print(arr)"
      ],
      "metadata": {
        "colab": {
          "base_uri": "https://localhost:8080/"
        },
        "id": "xL6AFd574RkI",
        "outputId": "f947a5a3-aebb-494a-b70c-5bc4e23cef1b"
      },
      "execution_count": null,
      "outputs": [
        {
          "output_type": "stream",
          "name": "stdout",
          "text": [
            "[[ 0.27618783 -0.94065543  0.08353071]\n",
            " [-0.22843883  0.46761716  0.99121652]]\n"
          ]
        }
      ]
    },
    {
      "cell_type": "code",
      "source": [
        "# 연산의 결과가 반환된것이고 변수 자체가 바뀐것이 아니다\n",
        "arr2 = arr*3\n",
        "arr2"
      ],
      "metadata": {
        "id": "xASoTpq84to1",
        "colab": {
          "base_uri": "https://localhost:8080/"
        },
        "outputId": "d9c02752-c236-4ab6-b8dd-7713a41a72bc"
      },
      "execution_count": null,
      "outputs": [
        {
          "output_type": "execute_result",
          "data": {
            "text/plain": [
              "array([[ 0.82856349, -2.82196628,  0.25059214],\n",
              "       [-0.6853165 ,  1.40285148,  2.97364957]])"
            ]
          },
          "metadata": {},
          "execution_count": 26
        }
      ]
    },
    {
      "cell_type": "code",
      "source": [
        "arr.shape #구조 확인"
      ],
      "metadata": {
        "colab": {
          "base_uri": "https://localhost:8080/"
        },
        "id": "tw1BozlK5Opa",
        "outputId": "fe0f43c5-6c39-4c81-c888-81b75e759726"
      },
      "execution_count": null,
      "outputs": [
        {
          "output_type": "execute_result",
          "data": {
            "text/plain": [
              "(2, 3)"
            ]
          },
          "metadata": {},
          "execution_count": 30
        }
      ]
    },
    {
      "cell_type": "code",
      "source": [
        "arr.ndim #차원 확인"
      ],
      "metadata": {
        "colab": {
          "base_uri": "https://localhost:8080/"
        },
        "id": "XZnQFHgx5TGy",
        "outputId": "4c03a050-1224-4556-855b-1f05e959040e"
      },
      "execution_count": null,
      "outputs": [
        {
          "output_type": "execute_result",
          "data": {
            "text/plain": [
              "2"
            ]
          },
          "metadata": {},
          "execution_count": 28
        }
      ]
    },
    {
      "cell_type": "code",
      "source": [
        "arr.dtype#원소타입확인"
      ],
      "metadata": {
        "colab": {
          "base_uri": "https://localhost:8080/"
        },
        "id": "aX0NbFfh5WwF",
        "outputId": "9f2f8307-475c-472b-8146-ba512bb0333d"
      },
      "execution_count": null,
      "outputs": [
        {
          "output_type": "execute_result",
          "data": {
            "text/plain": [
              "dtype('float64')"
            ]
          },
          "metadata": {},
          "execution_count": 29
        }
      ]
    },
    {
      "cell_type": "code",
      "source": [
        "arr1 = np.array([1,2,3])\n",
        "arr2 = np.array([1,2,3.2]) # 정수와 실수로 배열 생성 +> 모든 정수는 실수로 변환\n",
        "print(arr1)\n",
        "print(arr1.dtype)\n",
        "print(type(arr1[0]))\n",
        "\n",
        "print(arr2)\n",
        "print(arr2.dtype) \n",
        "print(type(arr2[0])) #numpy 배열에 있는 원소들은 같은형식으로 되어있다\n",
        "\n",
        "arr3 = np.array([1,2,3.2,'a'])\n",
        "print(arr3)\n",
        "print(arr3.dtype) \n",
        "print(type(arr3[0]))"
      ],
      "metadata": {
        "colab": {
          "base_uri": "https://localhost:8080/"
        },
        "id": "DG_7XDdd5fl6",
        "outputId": "e2e7fd9e-e687-4a0b-ecad-d10e4d03abad"
      },
      "execution_count": null,
      "outputs": [
        {
          "output_type": "stream",
          "name": "stdout",
          "text": [
            "[1 2 3]\n",
            "int64\n",
            "<class 'numpy.int64'>\n",
            "[1.  2.  3.2]\n",
            "float64\n",
            "<class 'numpy.float64'>\n",
            "['1' '2' '3.2' 'a']\n",
            "<U32\n",
            "<class 'numpy.str_'>\n"
          ]
        }
      ]
    },
    {
      "cell_type": "markdown",
      "source": [
        "#다차원 배열 생성"
      ],
      "metadata": {
        "id": "2TD5UW0W64ev"
      }
    },
    {
      "cell_type": "code",
      "source": [
        "ls = [1,2,3]\n",
        "arr = np.array(ls)#리스트를 입력 인자로 ndarray 개체 생성\n",
        "print(arr)\n",
        "print(type(arr))"
      ],
      "metadata": {
        "colab": {
          "base_uri": "https://localhost:8080/"
        },
        "id": "8JWrOkaw68wv",
        "outputId": "9badcd60-bbd0-4c6c-8315-40baf4f00d5c"
      },
      "execution_count": null,
      "outputs": [
        {
          "output_type": "stream",
          "name": "stdout",
          "text": [
            "[1 2 3]\n",
            "<class 'numpy.ndarray'>\n"
          ]
        }
      ]
    },
    {
      "cell_type": "code",
      "source": [
        "arr=np.zeros(10)\n",
        "print(arr)\n",
        "print(\"구조 : \",arr.shape)\n",
        "print(\"차원 : \",arr.ndim)\n",
        "print(\"원소(요소) 형식 : \",arr.dtype)"
      ],
      "metadata": {
        "colab": {
          "base_uri": "https://localhost:8080/"
        },
        "id": "tGlL1xZK7SZX",
        "outputId": "edac06f2-1b81-472e-d10f-62554f85d7c1"
      },
      "execution_count": null,
      "outputs": [
        {
          "output_type": "stream",
          "name": "stdout",
          "text": [
            "[0. 0. 0. 0. 0. 0. 0. 0. 0. 0.]\n",
            "구조 :  (10,)\n",
            "차원 :  1\n",
            "원소(요소) 형식 :  float64\n"
          ]
        }
      ]
    },
    {
      "cell_type": "code",
      "source": [
        "arr=np.zeros((3,6))\n",
        "print(arr)\n",
        "print(\"구조 : \",arr.shape)\n",
        "print(\"차원 : \",arr.ndim)\n",
        "print(\"원소(요소) 형식 : \",arr.dtype)"
      ],
      "metadata": {
        "colab": {
          "base_uri": "https://localhost:8080/"
        },
        "id": "5T_OlkHo71Nu",
        "outputId": "c2ef6519-ff7a-414f-ab2f-7ff0351ecee4"
      },
      "execution_count": null,
      "outputs": [
        {
          "output_type": "stream",
          "name": "stdout",
          "text": [
            "[[0. 0. 0. 0. 0. 0.]\n",
            " [0. 0. 0. 0. 0. 0.]\n",
            " [0. 0. 0. 0. 0. 0.]]\n",
            "구조 :  (3, 6)\n",
            "차원 :  2\n",
            "원소(요소) 형식 :  float64\n"
          ]
        }
      ]
    },
    {
      "cell_type": "code",
      "source": [
        "arr=np.ones((3,6))\n",
        "print(arr)\n",
        "print(\"구조 : \",arr.shape)\n",
        "print(\"차원 : \",arr.ndim)\n",
        "print(\"원소(요소) 형식 : \",arr.dtype)"
      ],
      "metadata": {
        "colab": {
          "base_uri": "https://localhost:8080/"
        },
        "id": "UZhNC9jY7_nQ",
        "outputId": "352cb6a6-665f-4eba-c19a-34180056ec1a"
      },
      "execution_count": null,
      "outputs": [
        {
          "output_type": "stream",
          "name": "stdout",
          "text": [
            "[[1. 1. 1. 1. 1. 1.]\n",
            " [1. 1. 1. 1. 1. 1.]\n",
            " [1. 1. 1. 1. 1. 1.]]\n",
            "구조 :  (3, 6)\n",
            "차원 :  2\n",
            "원소(요소) 형식 :  float64\n"
          ]
        }
      ]
    },
    {
      "cell_type": "code",
      "source": [
        "arr=np.arange(20)\n",
        "print(arr)\n",
        "print(\"구조 : \",arr.shape)\n",
        "print(\"차원 : \",arr.ndim)\n",
        "print(\"원소(요소) 형식 : \",arr.dtype)"
      ],
      "metadata": {
        "colab": {
          "base_uri": "https://localhost:8080/"
        },
        "id": "uW2sI37U8TQT",
        "outputId": "b3197780-9c12-4d16-8174-4055f12b29b9"
      },
      "execution_count": null,
      "outputs": [
        {
          "output_type": "stream",
          "name": "stdout",
          "text": [
            "[ 0  1  2  3  4  5  6  7  8  9 10 11 12 13 14 15 16 17 18 19]\n",
            "구조 :  (20,)\n",
            "차원 :  1\n",
            "원소(요소) 형식 :  int64\n"
          ]
        }
      ]
    },
    {
      "cell_type": "code",
      "source": [
        "arr=np.arange(3,20,4)\n",
        "print(arr)\n",
        "print(\"구조 : \",arr.shape)\n",
        "print(\"차원 : \",arr.ndim)\n",
        "print(\"원소(요소) 형식 : \",arr.dtype)"
      ],
      "metadata": {
        "colab": {
          "base_uri": "https://localhost:8080/"
        },
        "id": "0fJRYf7n8giH",
        "outputId": "878e7989-f4fd-48cb-e487-9b2bcd1544c3"
      },
      "execution_count": null,
      "outputs": [
        {
          "output_type": "stream",
          "name": "stdout",
          "text": [
            "[ 3  7 11 15 19]\n",
            "구조 :  (5,)\n",
            "차원 :  1\n",
            "원소(요소) 형식 :  int64\n"
          ]
        }
      ]
    },
    {
      "cell_type": "markdown",
      "source": [
        "---\n",
        "#원소 타입\n"
      ],
      "metadata": {
        "id": "BsWwLrzDBg4d"
      }
    },
    {
      "cell_type": "code",
      "source": [
        "arr=np.array([1,2,3])\n",
        "print(type(arr[0]),type(arr[1]),type(arr[2]))\n",
        "print(arr.dtype)\n",
        "print(arr)"
      ],
      "metadata": {
        "colab": {
          "base_uri": "https://localhost:8080/"
        },
        "id": "jJwKIbE_Bm0Q",
        "outputId": "f0ccb824-3ddd-4fd0-aade-1486e7f50c09"
      },
      "execution_count": null,
      "outputs": [
        {
          "output_type": "stream",
          "name": "stdout",
          "text": [
            "<class 'numpy.int64'> <class 'numpy.int64'> <class 'numpy.int64'>\n",
            "int64\n",
            "[1 2 3]\n"
          ]
        }
      ]
    },
    {
      "cell_type": "code",
      "source": [
        "arr=np.array([1,2,4.2],dtype=np.int32) #dtype 인자를 이용하여 명시적으로 원소 형식 결정\n",
        "print(type(arr[0]),type(arr[1]),type(arr[2]))\n",
        "print(arr.dtype)\n",
        "print(arr)"
      ],
      "metadata": {
        "colab": {
          "base_uri": "https://localhost:8080/"
        },
        "id": "64QZXwcPB1JG",
        "outputId": "baa167fc-2646-4221-a861-71be33e9521c"
      },
      "execution_count": null,
      "outputs": [
        {
          "output_type": "stream",
          "name": "stdout",
          "text": [
            "<class 'numpy.int32'> <class 'numpy.int32'> <class 'numpy.int32'>\n",
            "int32\n",
            "[1 2 4]\n"
          ]
        }
      ]
    },
    {
      "cell_type": "markdown",
      "source": [
        "---\n",
        "#산술 연산"
      ],
      "metadata": {
        "id": "D5u04oqzCfDl"
      }
    },
    {
      "cell_type": "code",
      "source": [
        "arr = np.array([[1,2,3],[4,5,6]])\n",
        "print(arr)\n",
        "print(\"====\")\n",
        "arr2=arr*arr\n",
        "print(arr2)"
      ],
      "metadata": {
        "colab": {
          "base_uri": "https://localhost:8080/"
        },
        "id": "e1MPZFG6Cpnv",
        "outputId": "9e67bf85-53db-482f-a0a8-7822283d92fa"
      },
      "execution_count": null,
      "outputs": [
        {
          "output_type": "stream",
          "name": "stdout",
          "text": [
            "[[1 2 3]\n",
            " [4 5 6]]\n",
            "====\n",
            "[[ 1  4  9]\n",
            " [16 25 36]]\n"
          ]
        }
      ]
    },
    {
      "cell_type": "code",
      "source": [
        "arr2=arr-arr\n",
        "print(arr2)"
      ],
      "metadata": {
        "colab": {
          "base_uri": "https://localhost:8080/"
        },
        "id": "jAH7mOmADAo1",
        "outputId": "0d40b548-2a39-41eb-a8c2-c3821fbf12e4"
      },
      "execution_count": null,
      "outputs": [
        {
          "output_type": "stream",
          "name": "stdout",
          "text": [
            "[[0 0 0]\n",
            " [0 0 0]]\n"
          ]
        }
      ]
    },
    {
      "cell_type": "code",
      "source": [
        "arr2=1/arr\n",
        "print(arr2)"
      ],
      "metadata": {
        "colab": {
          "base_uri": "https://localhost:8080/"
        },
        "id": "7LMBQdwWDHx4",
        "outputId": "f79f1e79-3398-4de6-e05e-4bb8b0e3b5f8"
      },
      "execution_count": null,
      "outputs": [
        {
          "output_type": "stream",
          "name": "stdout",
          "text": [
            "[[1.         0.5        0.33333333]\n",
            " [0.25       0.2        0.16666667]]\n"
          ]
        }
      ]
    },
    {
      "cell_type": "code",
      "source": [
        "arr2=arr**0.5\n",
        "print(arr2)"
      ],
      "metadata": {
        "colab": {
          "base_uri": "https://localhost:8080/"
        },
        "id": "VAKj1aiiDNes",
        "outputId": "921e50ea-a7b6-434c-ca3f-fd152e7ac32c"
      },
      "execution_count": null,
      "outputs": [
        {
          "output_type": "stream",
          "name": "stdout",
          "text": [
            "[[1.         1.41421356 1.73205081]\n",
            " [2.         2.23606798 2.44948974]]\n"
          ]
        }
      ]
    },
    {
      "cell_type": "markdown",
      "source": [
        "#색인 및 슬라이싱"
      ],
      "metadata": {
        "id": "fMiTDCtMDy-N"
      }
    },
    {
      "cell_type": "code",
      "source": [
        "arr = np.arange(1000)"
      ],
      "metadata": {
        "id": "YIR5wSq8EIB9"
      },
      "execution_count": null,
      "outputs": []
    },
    {
      "cell_type": "code",
      "source": [
        "print(arr[5:8])"
      ],
      "metadata": {
        "colab": {
          "base_uri": "https://localhost:8080/"
        },
        "id": "capMKe9oEOwc",
        "outputId": "e9259e90-fab5-4481-a08f-d6c8efb542d4"
      },
      "execution_count": null,
      "outputs": [
        {
          "output_type": "stream",
          "name": "stdout",
          "text": [
            "[5 6 7]\n"
          ]
        }
      ]
    },
    {
      "cell_type": "code",
      "source": [
        "# 처음부터 인덱스 미만까지\n",
        "print(arr[:8])"
      ],
      "metadata": {
        "colab": {
          "base_uri": "https://localhost:8080/"
        },
        "id": "kwgk1FJEEThw",
        "outputId": "dc9e1000-b2ed-47d3-d224-3370d7d3a9d2"
      },
      "execution_count": null,
      "outputs": [
        {
          "output_type": "stream",
          "name": "stdout",
          "text": [
            "[0 1 2 3 4 5 6 7]\n"
          ]
        }
      ]
    },
    {
      "cell_type": "code",
      "source": [
        "print(arr[995:])"
      ],
      "metadata": {
        "colab": {
          "base_uri": "https://localhost:8080/"
        },
        "id": "mpyfIvSCEYQZ",
        "outputId": "3dfd2984-3f4d-4e29-94cc-ca62f7880446"
      },
      "execution_count": null,
      "outputs": [
        {
          "output_type": "stream",
          "name": "stdout",
          "text": [
            "[995 996 997 998 999]\n"
          ]
        }
      ]
    },
    {
      "cell_type": "code",
      "source": [
        "print(arr[-5:])"
      ],
      "metadata": {
        "colab": {
          "base_uri": "https://localhost:8080/"
        },
        "id": "ApyrFni9EfHn",
        "outputId": "2e5cf005-55a9-42a0-99ac-2ee3e8778bd0"
      },
      "execution_count": null,
      "outputs": [
        {
          "output_type": "stream",
          "name": "stdout",
          "text": [
            "[995 996 997 998 999]\n"
          ]
        }
      ]
    },
    {
      "cell_type": "code",
      "source": [
        "arr = np.zeros(30)\n",
        "print(arr)"
      ],
      "metadata": {
        "colab": {
          "base_uri": "https://localhost:8080/"
        },
        "id": "a8yrXR-nEm-s",
        "outputId": "c75b81d0-5cdf-4d66-9363-2952aa7bd638"
      },
      "execution_count": null,
      "outputs": [
        {
          "output_type": "stream",
          "name": "stdout",
          "text": [
            "[0. 0. 0. 0. 0. 0. 0. 0. 0. 0. 0. 0. 0. 0. 0. 0. 0. 0. 0. 0. 0. 0. 0. 0.\n",
            " 0. 0. 0. 0. 0. 0.]\n"
          ]
        }
      ]
    },
    {
      "cell_type": "code",
      "source": [
        "# 일부 숫자를 갱신할수 있다\n",
        "arr[5:8] = 7\n",
        "print(arr)"
      ],
      "metadata": {
        "colab": {
          "base_uri": "https://localhost:8080/"
        },
        "id": "wjzZ8Aj4ExgH",
        "outputId": "4d6523d8-6100-4f1c-8790-5c8ec64db969"
      },
      "execution_count": null,
      "outputs": [
        {
          "output_type": "stream",
          "name": "stdout",
          "text": [
            "[0. 0. 0. 0. 0. 7. 7. 7. 0. 0. 0. 0. 0. 0. 0. 0. 0. 0. 0. 0. 0. 0. 0. 0.\n",
            " 0. 0. 0. 0. 0. 0.]\n"
          ]
        }
      ]
    },
    {
      "cell_type": "code",
      "source": [
        "arr = np.array([[1,2,3],[4,5,6],[7,8,9]])\n",
        "print(arr)"
      ],
      "metadata": {
        "colab": {
          "base_uri": "https://localhost:8080/"
        },
        "id": "II6yAFlkE1g5",
        "outputId": "93c35606-189e-4b4e-a133-6dae1c996a95"
      },
      "execution_count": null,
      "outputs": [
        {
          "output_type": "stream",
          "name": "stdout",
          "text": [
            "[[1 2 3]\n",
            " [4 5 6]\n",
            " [7 8 9]]\n"
          ]
        }
      ]
    },
    {
      "cell_type": "code",
      "source": [
        "print(arr[0])\n",
        "print(arr[1])\n",
        "print(arr[2])"
      ],
      "metadata": {
        "colab": {
          "base_uri": "https://localhost:8080/"
        },
        "id": "5HXGnpSLFLfl",
        "outputId": "2ed8f386-9342-4d5c-bc36-195ca6f85f8e"
      },
      "execution_count": null,
      "outputs": [
        {
          "output_type": "stream",
          "name": "stdout",
          "text": [
            "[1 2 3]\n",
            "[4 5 6]\n",
            "[7 8 9]\n"
          ]
        }
      ]
    },
    {
      "cell_type": "code",
      "source": [
        "print(arr[0][2])"
      ],
      "metadata": {
        "colab": {
          "base_uri": "https://localhost:8080/"
        },
        "id": "EfE9WzsuFQQx",
        "outputId": "69d38598-9e08-46ad-f207-ae71900c65d3"
      },
      "execution_count": null,
      "outputs": [
        {
          "output_type": "stream",
          "name": "stdout",
          "text": [
            "3\n"
          ]
        }
      ]
    },
    {
      "cell_type": "code",
      "source": [
        "#다차원 배열의 인덱스를 numpy에서 사용하는 방법\n",
        "print(arr[0,2])"
      ],
      "metadata": {
        "colab": {
          "base_uri": "https://localhost:8080/"
        },
        "id": "n4VokAQ9FU24",
        "outputId": "4f7709e8-ad59-43d9-8e2f-d6bc896e8231"
      },
      "execution_count": null,
      "outputs": [
        {
          "output_type": "stream",
          "name": "stdout",
          "text": [
            "3\n"
          ]
        }
      ]
    },
    {
      "cell_type": "markdown",
      "source": [
        "###소스 배열을 가지고 간단한 실험을 하기 위해서 복사하여 사용하기\n",
        "원본의 내용을 오염시키지 않아야 할 때\n",
        "흔한일은 아니다"
      ],
      "metadata": {
        "id": "Kbo1VDd0FYKb"
      }
    },
    {
      "cell_type": "code",
      "source": [
        "cp_arr = arr.copy()\n",
        "print(cp_arr)\n",
        "cp_arr = cp_arr*2\n",
        "print(cp_arr)\n",
        "print(arr)"
      ],
      "metadata": {
        "colab": {
          "base_uri": "https://localhost:8080/"
        },
        "id": "3pcVztK6Fo9P",
        "outputId": "d443e366-a043-40ae-c166-12e5ce93376b"
      },
      "execution_count": null,
      "outputs": [
        {
          "output_type": "stream",
          "name": "stdout",
          "text": [
            "[[1 2 3]\n",
            " [4 5 6]\n",
            " [7 8 9]]\n",
            "[[ 2  4  6]\n",
            " [ 8 10 12]\n",
            " [14 16 18]]\n",
            "[[1 2 3]\n",
            " [4 5 6]\n",
            " [7 8 9]]\n"
          ]
        }
      ]
    },
    {
      "cell_type": "code",
      "source": [
        "cp_arr = arr.copy() #arr과 cp_arr은 다른 객체를 참조 copy()메소드의 존재 이유\n",
        "print(cp_arr)\n",
        "cp_arr[0,1] = 8\n",
        "print(cp_arr)\n",
        "print(arr)"
      ],
      "metadata": {
        "colab": {
          "base_uri": "https://localhost:8080/"
        },
        "id": "wJcMKyt6GFkp",
        "outputId": "9f7301d1-48d8-4c24-feeb-e6ba94c34cc6"
      },
      "execution_count": null,
      "outputs": [
        {
          "output_type": "stream",
          "name": "stdout",
          "text": [
            "[[1 2 3]\n",
            " [4 5 6]\n",
            " [7 8 9]]\n",
            "[[1 8 3]\n",
            " [4 5 6]\n",
            " [7 8 9]]\n",
            "[[1 2 3]\n",
            " [4 5 6]\n",
            " [7 8 9]]\n"
          ]
        }
      ]
    },
    {
      "cell_type": "code",
      "source": [
        "cp_arr = arr #arr과 cp_arr은 같은 객체를 참조\n",
        "print(cp_arr)\n",
        "cp_arr[0,1] = 8\n",
        "print(cp_arr)\n",
        "print(arr)"
      ],
      "metadata": {
        "colab": {
          "base_uri": "https://localhost:8080/"
        },
        "id": "74KVrdO7GS42",
        "outputId": "4e16ee31-be1e-4fcb-d5a0-6776885ac39b"
      },
      "execution_count": null,
      "outputs": [
        {
          "output_type": "stream",
          "name": "stdout",
          "text": [
            "[[1 2 3]\n",
            " [4 5 6]\n",
            " [7 8 9]]\n",
            "[[1 8 3]\n",
            " [4 5 6]\n",
            " [7 8 9]]\n",
            "[[1 8 3]\n",
            " [4 5 6]\n",
            " [7 8 9]]\n"
          ]
        }
      ]
    },
    {
      "cell_type": "code",
      "source": [],
      "metadata": {
        "id": "O7rGgtPAGWI0"
      },
      "execution_count": null,
      "outputs": []
    },
    {
      "cell_type": "code",
      "source": [],
      "metadata": {
        "colab": {
          "base_uri": "https://localhost:8080/"
        },
        "id": "4rGWWdkpF2Qh",
        "outputId": "41d2e0b1-da8d-4aa2-aed2-ca4c4bdcc1ea"
      },
      "execution_count": null,
      "outputs": [
        {
          "output_type": "stream",
          "name": "stdout",
          "text": [
            "[[1 8 3]\n",
            " [4 5 6]\n",
            " [7 8 9]]\n",
            "[[ 2 16  6]\n",
            " [ 8 10 12]\n",
            " [14 16 18]]\n",
            "[[1 8 3]\n",
            " [4 5 6]\n",
            " [7 8 9]]\n"
          ]
        }
      ]
    },
    {
      "cell_type": "markdown",
      "source": [
        "#filter\n",
        "판다스에서 더욱 강력하게 느껴질 것이다"
      ],
      "metadata": {
        "id": "OjUkh-v2GYHL"
      }
    },
    {
      "cell_type": "code",
      "source": [
        "arr1 = np.array([1,2,3])\n",
        "arr2 = np.array([4,0,2])\n",
        "filter = arr1>arr2\n",
        "print(filter)\n",
        "# 각 요소끼리 비교하여 Ture False를 반환한다"
      ],
      "metadata": {
        "colab": {
          "base_uri": "https://localhost:8080/"
        },
        "id": "78HpTLO9HGE7",
        "outputId": "faa6a5b9-20dc-44b2-d311-f717bcb4ed24"
      },
      "execution_count": null,
      "outputs": [
        {
          "output_type": "stream",
          "name": "stdout",
          "text": [
            "[False  True  True]\n"
          ]
        }
      ]
    },
    {
      "cell_type": "code",
      "source": [
        "arr = np.array([1,2,3])\n",
        "\n",
        "filter = arr>=2\n",
        "print(filter)"
      ],
      "metadata": {
        "colab": {
          "base_uri": "https://localhost:8080/"
        },
        "id": "vPqntPDdHH3c",
        "outputId": "a1d0cb3e-fef2-4dd9-8511-9229a5c720bd"
      },
      "execution_count": null,
      "outputs": [
        {
          "output_type": "stream",
          "name": "stdout",
          "text": [
            "[False  True  True]\n"
          ]
        }
      ]
    },
    {
      "cell_type": "code",
      "source": [
        "res = arr[filter]\n",
        "print(res)"
      ],
      "metadata": {
        "colab": {
          "base_uri": "https://localhost:8080/"
        },
        "id": "OKDBHReJHPUX",
        "outputId": "1cfdf495-350b-46df-a4ca-1c74e61bcb31"
      },
      "execution_count": null,
      "outputs": [
        {
          "output_type": "stream",
          "name": "stdout",
          "text": [
            "[2 3]\n"
          ]
        }
      ]
    },
    {
      "cell_type": "code",
      "source": [
        "res = arr[~filter] # ~ 가 붙으면 반대(not)\n",
        "print(res)"
      ],
      "metadata": {
        "colab": {
          "base_uri": "https://localhost:8080/"
        },
        "id": "4apuOBdlHWsC",
        "outputId": "4160ac47-ec41-427e-e88b-897ae6d0c67b"
      },
      "execution_count": null,
      "outputs": [
        {
          "output_type": "stream",
          "name": "stdout",
          "text": [
            "[1]\n"
          ]
        }
      ]
    },
    {
      "cell_type": "markdown",
      "source": [
        "배운것을 확인하고 싶다면 작은 프로그램을 짜봐라\n",
        "라이브러리를 배울때 하루에 100가지를 나가는데 어떻게 다 기억하겠는가\n",
        "\n",
        "숙련을 위해 어떤프로그램이 적합할까?"
      ],
      "metadata": {
        "id": "7VKw61I2IAwR"
      }
    },
    {
      "cell_type": "markdown",
      "source": [
        "#구조 변경 p155"
      ],
      "metadata": {
        "id": "YBiuYDaNIXF_"
      }
    },
    {
      "cell_type": "code",
      "source": [
        "arr = np.arange(96)\n",
        "print(\"구조: \",arr.shape)\n",
        "print(\"차원: \",arr.ndim)"
      ],
      "metadata": {
        "id": "4JTWggbBIaai"
      },
      "execution_count": null,
      "outputs": []
    },
    {
      "cell_type": "code",
      "source": [
        "arr2 = arr.reshape((6,16))\n",
        "print(\"구조: \",arr2.shape)\n",
        "print(\"차원: \",arr2.ndim)"
      ],
      "metadata": {
        "id": "9xeL1RLgItoy"
      },
      "execution_count": null,
      "outputs": []
    },
    {
      "cell_type": "code",
      "source": [
        "# arr2 = arr.reshape((7,13)) # 요소의 수가 정확히 떨어져야한다\n",
        "# print(\"구조: \",arr2.shape)\n",
        "# print(\"차원: \",arr2.ndim)"
      ],
      "metadata": {
        "id": "aySfGyPBI2I1"
      },
      "execution_count": null,
      "outputs": []
    },
    {
      "cell_type": "code",
      "source": [
        "arr2 = arr.reshape((6,-1)) # 구조 변경 요청할 때 하나의 차원은 -1로 표현가능 (알아서 계산)\n",
        "print(\"구조: \",arr2.shape)\n",
        "print(\"차원: \",arr2.ndim)"
      ],
      "metadata": {
        "id": "xKixg8v_JQpT"
      },
      "execution_count": null,
      "outputs": []
    },
    {
      "cell_type": "code",
      "source": [
        "arr = np.array([[1,2,3],[4,5,6]])\n",
        "arr2 = arr.T # 각 열로 새로운 행렬을 만든다\n",
        "print(arr)\n",
        "print(\"====\")\n",
        "print(arr2)"
      ],
      "metadata": {
        "id": "_PUMRxG2JaGv"
      },
      "execution_count": null,
      "outputs": []
    },
    {
      "cell_type": "code",
      "source": [
        "arr2 = arr.transpose() #arr.T와 arr.transpose() 같은결과(전치행렬)를 반환한다\n",
        "print(arr)\n",
        "print(\"=====\")\n",
        "print(arr2)"
      ],
      "metadata": {
        "id": "y11uXAm2JpIl"
      },
      "execution_count": null,
      "outputs": []
    },
    {
      "cell_type": "code",
      "source": [
        "arr = np.arange(10)\n",
        "print(arr)"
      ],
      "metadata": {
        "colab": {
          "base_uri": "https://localhost:8080/"
        },
        "id": "888uF-WnKGFl",
        "outputId": "d3aa885e-3eda-4b37-ab68-f5be662bb887"
      },
      "execution_count": null,
      "outputs": [
        {
          "output_type": "stream",
          "name": "stdout",
          "text": [
            "[0 1 2 3 4 5 6 7 8 9]\n"
          ]
        }
      ]
    },
    {
      "cell_type": "code",
      "source": [
        "arr2 = np.sqrt(arr) #원본이 바뀌는것이 아니다 ## arr**arr0.5와 같은 결과\n",
        "print(arr2)\n",
        "print(arr)"
      ],
      "metadata": {
        "colab": {
          "base_uri": "https://localhost:8080/"
        },
        "id": "TeCaj5J8KR-C",
        "outputId": "f24c4ac7-6844-4ca1-c95d-0d14aa627f76"
      },
      "execution_count": null,
      "outputs": [
        {
          "output_type": "stream",
          "name": "stdout",
          "text": [
            "[0.         1.         1.41421356 1.73205081 2.         2.23606798\n",
            " 2.44948974 2.64575131 2.82842712 3.        ]\n",
            "[0 1 2 3 4 5 6 7 8 9]\n"
          ]
        }
      ]
    },
    {
      "cell_type": "code",
      "source": [
        "arr1 = np.random.randn(2,3)\n",
        "print(arr1)\n",
        "print(\"====\")\n",
        "arr2 = np.random.randn(2,3)\n",
        "print(arr2)"
      ],
      "metadata": {
        "colab": {
          "base_uri": "https://localhost:8080/"
        },
        "id": "Lu-l7U86LlBz",
        "outputId": "646934cc-c8ce-4d94-8bce-d766db759518"
      },
      "execution_count": null,
      "outputs": [
        {
          "output_type": "stream",
          "name": "stdout",
          "text": [
            "[[ 0.24058222  0.46882828 -1.04280659]\n",
            " [-0.32557287 -0.35544653  0.02379071]]\n",
            "====\n",
            "[[ 0.31096766 -1.48016884  0.06827727]\n",
            " [ 1.74369772 -2.2302653   0.51898936]]\n"
          ]
        }
      ]
    },
    {
      "cell_type": "code",
      "source": [
        "arr3 = np.maximum(arr1,arr2) # 큰 것만 가져온다\n",
        "print(arr3)"
      ],
      "metadata": {
        "colab": {
          "base_uri": "https://localhost:8080/"
        },
        "id": "SwrL5K47MCbb",
        "outputId": "b0f94ae1-51a4-4dd6-cd85-bea646a58287"
      },
      "execution_count": null,
      "outputs": [
        {
          "output_type": "stream",
          "name": "stdout",
          "text": [
            "[[ 0.31096766  0.46882828  0.06827727]\n",
            " [ 1.74369772 -0.35544653  0.51898936]]\n"
          ]
        }
      ]
    },
    {
      "cell_type": "code",
      "source": [
        "arr = np.random.randn(7)*5\n",
        "arr"
      ],
      "metadata": {
        "colab": {
          "base_uri": "https://localhost:8080/"
        },
        "id": "__6HR7ClMIpc",
        "outputId": "b1eac655-ebbd-437f-8082-9f69992fc08c"
      },
      "execution_count": null,
      "outputs": [
        {
          "output_type": "execute_result",
          "data": {
            "text/plain": [
              "array([-7.57748256, -0.84496087, -4.86350132, -0.74965299,  2.92131827,\n",
              "       -2.608587  ,  5.98453569])"
            ]
          },
          "metadata": {},
          "execution_count": 100
        }
      ]
    },
    {
      "cell_type": "code",
      "source": [
        "remainder, whole_part = np.modf(arr)\n",
        "remainder"
      ],
      "metadata": {
        "colab": {
          "base_uri": "https://localhost:8080/"
        },
        "id": "0rsp9NzhMzmW",
        "outputId": "e9fd999c-22e7-4335-feae-d394877d193b"
      },
      "execution_count": null,
      "outputs": [
        {
          "output_type": "execute_result",
          "data": {
            "text/plain": [
              "array([-0.57748256, -0.84496087, -0.86350132, -0.74965299,  0.92131827,\n",
              "       -0.608587  ,  0.98453569])"
            ]
          },
          "metadata": {},
          "execution_count": 101
        }
      ]
    },
    {
      "cell_type": "markdown",
      "source": [
        "#Numpy 안으로"
      ],
      "metadata": {
        "id": "64IR3r06M9Tk"
      }
    },
    {
      "cell_type": "code",
      "source": [
        "#잠시 파이썬 기본 문법 - 리스트 컴프리헨션\n",
        "xs = [x*x+2+x+3 for x in range(1,10)] # 리스트 컴프리헨션\n",
        "print(xs)"
      ],
      "metadata": {
        "colab": {
          "base_uri": "https://localhost:8080/"
        },
        "id": "P4iEQVHXg6ps",
        "outputId": "554eaadd-b03d-46c6-8238-b3fca94189f9"
      },
      "execution_count": null,
      "outputs": [
        {
          "output_type": "stream",
          "name": "stdout",
          "text": [
            "[7, 11, 17, 25, 35, 47, 61, 77, 95]\n"
          ]
        }
      ]
    },
    {
      "cell_type": "code",
      "source": [
        "#위에 문법을 풀어서 보자\n",
        "xs = []\n",
        "for x in range(1,10):\n",
        "  xs.append(x*x+2*x+3)\n",
        "print(xs)"
      ],
      "metadata": {
        "colab": {
          "base_uri": "https://localhost:8080/"
        },
        "id": "j5FyfApfgp72",
        "outputId": "74933aa6-1f2b-460f-d144-d308ef851f39"
      },
      "execution_count": null,
      "outputs": [
        {
          "output_type": "stream",
          "name": "stdout",
          "text": [
            "[6, 11, 18, 27, 38, 51, 66, 83, 102]\n"
          ]
        }
      ]
    },
    {
      "cell_type": "markdown",
      "source": [
        "---"
      ],
      "metadata": {
        "id": "axdG39COhT9R"
      }
    },
    {
      "cell_type": "code",
      "source": [
        "xarr = np.array([1.1,1.2,1.3,1.4,1.5])\n",
        "yarr = np.array([2.1,2.2,2.3,2.4,2.5])\n",
        "cond = np.array([True,False,True,True,False])"
      ],
      "metadata": {
        "id": "htwBp4z4hdMA"
      },
      "execution_count": null,
      "outputs": []
    },
    {
      "cell_type": "code",
      "source": [
        "#잠시 파이썬 기본 문법 - zip 사용 예\n",
        "ls1=[1,2,3]\n",
        "ls2=['가','나','다']\n",
        "for e1, e2 in zip(ls1, ls2):\n",
        "  print(e1,e2)"
      ],
      "metadata": {
        "colab": {
          "base_uri": "https://localhost:8080/"
        },
        "id": "41KykcoLhzbr",
        "outputId": "bb73d1c4-bcd9-47e3-be84-c2d8175846af"
      },
      "execution_count": null,
      "outputs": [
        {
          "output_type": "stream",
          "name": "stdout",
          "text": [
            "1 가\n",
            "2 나\n",
            "3 다\n"
          ]
        }
      ]
    },
    {
      "cell_type": "markdown",
      "source": [
        "p164"
      ],
      "metadata": {
        "id": "hwPT3Cp-iTDJ"
      }
    },
    {
      "cell_type": "code",
      "source": [
        "result = [(x if c else y) for x,y,c in zip(xarr,yarr,cond)]\n",
        "print(result)"
      ],
      "metadata": {
        "colab": {
          "base_uri": "https://localhost:8080/"
        },
        "id": "J1Ow8RCXiVR6",
        "outputId": "8853e939-532f-492f-925f-bb14e2219d93"
      },
      "execution_count": null,
      "outputs": [
        {
          "output_type": "stream",
          "name": "stdout",
          "text": [
            "[1.1, 2.2, 1.3, 1.4, 2.5]\n"
          ]
        }
      ]
    },
    {
      "cell_type": "code",
      "source": [
        "#위에 문법을 풀어서 보자\n",
        "result=[]\n",
        "for x,y,c in zip(xarr,yarr,cond):\n",
        "  if c:\n",
        "    result.append(x)\n",
        "  else:\n",
        "    result.append(y)\n",
        "    print(result)"
      ],
      "metadata": {
        "colab": {
          "base_uri": "https://localhost:8080/"
        },
        "id": "cSiwVVN4iiUF",
        "outputId": "910c07da-2703-4d62-dec8-c270b5e45183"
      },
      "execution_count": null,
      "outputs": [
        {
          "output_type": "stream",
          "name": "stdout",
          "text": [
            "[1.1, 2.2]\n",
            "[1.1, 2.2, 1.3, 1.4, 2.5]\n"
          ]
        }
      ]
    },
    {
      "cell_type": "code",
      "source": [
        "result1 = np.where(cond,xarr,yarr) # 조건, 배열 참일때 사용할 ,거짓일때 하용하는 \n",
        "print(result1)"
      ],
      "metadata": {
        "colab": {
          "base_uri": "https://localhost:8080/"
        },
        "id": "GFlCNU7yjb9b",
        "outputId": "e00cf483-208c-44cc-cec7-2746bca0df55"
      },
      "execution_count": null,
      "outputs": [
        {
          "output_type": "stream",
          "name": "stdout",
          "text": [
            "[1.1 2.2 1.3 1.4 2.5]\n"
          ]
        }
      ]
    },
    {
      "cell_type": "code",
      "source": [
        "result1 = np.where(cond,1,2)\n",
        "print(result1)"
      ],
      "metadata": {
        "colab": {
          "base_uri": "https://localhost:8080/"
        },
        "id": "BkUO835ij33V",
        "outputId": "736a1207-d17b-4041-998f-3c328a2fc8c5"
      },
      "execution_count": null,
      "outputs": [
        {
          "output_type": "stream",
          "name": "stdout",
          "text": [
            "[1 2 1 1 2]\n"
          ]
        }
      ]
    },
    {
      "cell_type": "code",
      "source": [
        "heights = np.random.normal(172.4,5,1000)# 평균 172.4 표준편차 5인 표본 1000개를 생성\n",
        "print(heights)"
      ],
      "metadata": {
        "id": "mZv5lN6ukdlv"
      },
      "execution_count": null,
      "outputs": []
    },
    {
      "cell_type": "code",
      "source": [
        "print(\"평균 : \",heights.mean()) # print(\"평균: \",np.mean(heights))\n",
        "print(\"평균 : \",heights.sum()) # print(\"평균: \",np.sum(heights))"
      ],
      "metadata": {
        "colab": {
          "base_uri": "https://localhost:8080/"
        },
        "id": "uiOsxh2flMM2",
        "outputId": "bb7cb735-7d35-42bb-a98b-8d9226757969"
      },
      "execution_count": null,
      "outputs": [
        {
          "output_type": "stream",
          "name": "stdout",
          "text": [
            "평균 :  172.43941699910357\n",
            "평균 :  172439.41699910356\n"
          ]
        }
      ]
    },
    {
      "cell_type": "code",
      "source": [
        "h2 = heights.reshape(20,-1)# 평균 172.4 표준편차 5인 표본 1000개를 생성\n",
        "print(\"구조 : \", h2.shape)\n",
        "print(h2)"
      ],
      "metadata": {
        "colab": {
          "base_uri": "https://localhost:8080/"
        },
        "id": "Sr6Mz5L4lfBs",
        "outputId": "f4dd2805-11cc-4127-b790-8cfc3c70e764"
      },
      "execution_count": null,
      "outputs": [
        {
          "output_type": "stream",
          "name": "stdout",
          "text": [
            "구조 :  (20, 50)\n"
          ]
        }
      ]
    },
    {
      "cell_type": "code",
      "source": [
        "print(\"평균(축1): \",h2.mean(axis=1)) # 로우 별 평균 axis\n",
        "print(\"평균(축0): \",h2.mean(axis=0)) # 컬럼 별 평균"
      ],
      "metadata": {
        "colab": {
          "base_uri": "https://localhost:8080/"
        },
        "id": "bN07ZNgClwa2",
        "outputId": "2336ecfe-32bd-4ae0-f140-40c25616bbba"
      },
      "execution_count": null,
      "outputs": [
        {
          "output_type": "stream",
          "name": "stdout",
          "text": [
            "평균(축1):  [173.19669028 172.35706823 171.96304525 172.34906986 172.95662307\n",
            " 172.45282554 172.29314082 173.29608046 172.31281202 172.11600057\n",
            " 172.54023159 173.1889776  172.41976985 172.34033025 172.72523458\n",
            " 171.55548879 172.61241659 172.41106023 172.38922126 171.31225313]\n",
            "평균(축0):  [172.13712834 173.30462021 171.2682956  173.64767926 173.93579784\n",
            " 173.31774832 171.83432947 171.14156149 171.25619429 170.97219058\n",
            " 173.20159437 172.28512287 173.22697083 172.98420874 172.48685955\n",
            " 171.63807932 171.05575753 170.41287526 173.00559088 173.30763731\n",
            " 171.95901159 173.01659397 170.81734413 171.33869101 172.90784311\n",
            " 171.88451636 173.55418282 172.67806245 172.1459527  169.71001538\n",
            " 172.49388532 170.66909597 172.24279867 171.87886452 172.00321336\n",
            " 174.43394649 173.59465569 172.45388072 173.29907407 173.18767654\n",
            " 171.57186718 170.9047217  173.74535565 172.8028096  172.18856665\n",
            " 174.58150146 173.9103692  171.86982725 175.01045333 172.69583104]\n"
          ]
        }
      ]
    },
    {
      "cell_type": "code",
      "source": [
        "print(\"합계(축0) :\",h2.sum(axis=0))\n",
        "print(\"합계(축1) :\",h2.sum(axis=1))"
      ],
      "metadata": {
        "colab": {
          "base_uri": "https://localhost:8080/"
        },
        "id": "k1j2F-ZOmMmk",
        "outputId": "0b8dde02-c05e-42ca-a226-87807c8b2df4"
      },
      "execution_count": null,
      "outputs": [
        {
          "output_type": "stream",
          "name": "stdout",
          "text": [
            "합계(축0) : [3442.74256674 3466.09240412 3425.36591204 3472.95358511 3478.71595687\n",
            " 3466.35496634 3436.68658938 3422.83122986 3425.12388582 3419.44381167\n",
            " 3464.03188741 3445.70245739 3464.53941657 3459.68417479 3449.73719107\n",
            " 3432.76158641 3421.11515066 3408.25750517 3460.11181751 3466.15274615\n",
            " 3439.18023181 3460.33187932 3416.3468825  3426.77382021 3458.15686213\n",
            " 3437.69032726 3471.08365631 3453.5612489  3442.91905401 3394.20030762\n",
            " 3449.87770638 3413.38191937 3444.85597335 3437.57729034 3440.06426728\n",
            " 3488.67892973 3471.89311375 3449.07761431 3465.98148143 3463.75353083\n",
            " 3431.43734356 3418.09443393 3474.90711306 3456.05619191 3443.77133295\n",
            " 3491.63002923 3478.20738408 3437.39654504 3500.20906655 3453.91662087]\n",
            "합계(축1) : [8659.8345142  8617.85341164 8598.15226244 8617.45349286 8647.83115333\n",
            " 8622.64127698 8614.657041   8664.80402315 8615.64060075 8605.80002844\n",
            " 8627.01157932 8659.4488802  8620.98849269 8617.0165126  8636.26172915\n",
            " 8577.77443956 8630.62082967 8620.55301155 8619.46106312 8565.61265644]\n"
          ]
        }
      ]
    },
    {
      "cell_type": "code",
      "source": [
        "print(\"분산: \",h2.var())\n",
        "print(\"표준편차: \",h2.std())"
      ],
      "metadata": {
        "colab": {
          "base_uri": "https://localhost:8080/"
        },
        "id": "9Wn7O2odmv0U",
        "outputId": "98d23fcc-de95-4d9c-8396-00966c03c83f"
      },
      "execution_count": null,
      "outputs": [
        {
          "output_type": "stream",
          "name": "stdout",
          "text": [
            "분산:  24.927403411121002\n",
            "표준편차:  4.992735063181402\n"
          ]
        }
      ]
    },
    {
      "cell_type": "code",
      "source": [
        "print(\"최솟값: \",h2.min())\n",
        "print(\"최댓값: \",h2.max())"
      ],
      "metadata": {
        "colab": {
          "base_uri": "https://localhost:8080/"
        },
        "id": "bPcIWYlynSmQ",
        "outputId": "af95c4de-f5ed-438c-d58e-b33eda07d7c1"
      },
      "execution_count": null,
      "outputs": [
        {
          "output_type": "stream",
          "name": "stdout",
          "text": [
            "최솟값:  158.03767383535896\n",
            "최댓값:  193.69632690950357\n"
          ]
        }
      ]
    },
    {
      "cell_type": "code",
      "source": [
        "print(\"최솟값이 있는 위치: \",heights.argmin())\n",
        "print(\"최댓값이 있는 위치: \",heights.argmax())\n",
        "print(heights[heights.argmin()],heights[heights.argmax()])"
      ],
      "metadata": {
        "colab": {
          "base_uri": "https://localhost:8080/"
        },
        "id": "VIC8TuejnblG",
        "outputId": "3704d8b8-e628-49a9-bbcc-bc07b9ae5e23"
      },
      "execution_count": null,
      "outputs": [
        {
          "output_type": "stream",
          "name": "stdout",
          "text": [
            "최솟값이 있는 위치:  97\n",
            "최댓값이 있는 위치:  854\n",
            "158.03767383535896 193.69632690950357\n"
          ]
        }
      ]
    },
    {
      "cell_type": "code",
      "source": [
        "#적분과 비슷\n",
        "arr=np.array([1,2,4,2,7])\n",
        "print(\"누적 함계:\",arr.cumsum())\n",
        "print(\"누적 곱:\",arr.cumprod())"
      ],
      "metadata": {
        "colab": {
          "base_uri": "https://localhost:8080/"
        },
        "id": "5ywbmHS_n8xB",
        "outputId": "e21a2719-f388-4e2c-bfa1-97d78c6a3016"
      },
      "execution_count": null,
      "outputs": [
        {
          "output_type": "stream",
          "name": "stdout",
          "text": [
            "누적 함계: [ 1  3  7  9 16]\n"
          ]
        }
      ]
    },
    {
      "cell_type": "code",
      "source": [
        "arr.sort()\n",
        "arr"
      ],
      "metadata": {
        "colab": {
          "base_uri": "https://localhost:8080/"
        },
        "id": "2FjNDD2Zpbjs",
        "outputId": "2df896f8-28bd-43e6-9a6f-24e8f3ecf463"
      },
      "execution_count": null,
      "outputs": [
        {
          "output_type": "execute_result",
          "data": {
            "text/plain": [
              "array([1, 2, 2, 4, 7])"
            ]
          },
          "metadata": {},
          "execution_count": 127
        }
      ]
    },
    {
      "cell_type": "code",
      "source": [
        "ua = np.unique(arr)\n",
        "ua"
      ],
      "metadata": {
        "colab": {
          "base_uri": "https://localhost:8080/"
        },
        "id": "CCnl0h67pdeA",
        "outputId": "e5ac4396-8550-4128-a8e8-78bf45b26f71"
      },
      "execution_count": null,
      "outputs": [
        {
          "output_type": "execute_result",
          "data": {
            "text/plain": [
              "array([1, 2, 4, 7])"
            ]
          },
          "metadata": {},
          "execution_count": 128
        }
      ]
    },
    {
      "cell_type": "code",
      "source": [
        "x = np.array([[1,2,3],[4,5,6]])\n",
        "y=np.array([[2,3],[1,2],[4,5]])\n",
        "re = x.dot(y)\n",
        "print(x)\n",
        "print(\"=====\")\n",
        "print(y)\n",
        "print(\"=====\")\n",
        "print(re)"
      ],
      "metadata": {
        "colab": {
          "base_uri": "https://localhost:8080/"
        },
        "id": "dAMJQqMWvc64",
        "outputId": "654cd46c-76c3-4c2e-c222-bb3417b58ed3"
      },
      "execution_count": null,
      "outputs": [
        {
          "output_type": "stream",
          "name": "stdout",
          "text": [
            "[[1 2 3]\n",
            " [4 5 6]]\n",
            "=====\n",
            "[[2 3]\n",
            " [1 2]\n",
            " [4 5]]\n",
            "=====\n",
            "[[16 22]\n",
            " [37 52]]\n"
          ]
        }
      ]
    },
    {
      "cell_type": "code",
      "source": [
        "for _ in range(10):\n",
        "  print(np.random.uniform(-2,3)) # -2~3 사이의 랜덤한 실수를 반환"
      ],
      "metadata": {
        "colab": {
          "base_uri": "https://localhost:8080/"
        },
        "id": "zg1RGcB8wlhP",
        "outputId": "057df7f1-cf72-40d2-dd79-bac912af1f1f"
      },
      "execution_count": null,
      "outputs": [
        {
          "output_type": "stream",
          "name": "stdout",
          "text": [
            "1.0643294982062401\n",
            "0.184856956820453\n",
            "-0.3138317140823119\n",
            "-1.3719077379777438\n",
            "0.7032158210986839\n",
            "1.3272851024950088\n",
            "2.643874800261753\n",
            "0.5351990639586508\n",
            "-1.9612522608966003\n",
            "-0.8290780134417124\n"
          ]
        }
      ]
    },
    {
      "cell_type": "code",
      "source": [
        "for _ in range(10):\n",
        "  print(np.random.randint(1,5),end=\" \") #1에서 5사이의 랜덤한 정수 반환\n",
        "print()"
      ],
      "metadata": {
        "colab": {
          "base_uri": "https://localhost:8080/"
        },
        "id": "h7myQOW6xijf",
        "outputId": "ad730908-a3a7-49ae-88be-86c2de5e5b40"
      },
      "execution_count": null,
      "outputs": [
        {
          "output_type": "stream",
          "name": "stdout",
          "text": [
            "3 1 4 3 4 3 4 3 2 4 \n"
          ]
        }
      ]
    },
    {
      "cell_type": "markdown",
      "source": [
        "왼쪽 길에 페로몬 20\n",
        "오른쪽길에 페로몬 10\n",
        "randint(0,30)<20"
      ],
      "metadata": {
        "id": "gKvEQ3dLx7eF"
      }
    },
    {
      "cell_type": "code",
      "source": [
        "volan = [1,7,2,8,9]\n",
        "for _ in range(20):\n",
        "  print(np.random.choice(volan),end=\" \")\n",
        "print()"
      ],
      "metadata": {
        "colab": {
          "base_uri": "https://localhost:8080/"
        },
        "id": "vxCuYeMmy6R3",
        "outputId": "66f4d6ed-5876-4e0c-bb4d-aae787623931"
      },
      "execution_count": null,
      "outputs": [
        {
          "output_type": "stream",
          "name": "stdout",
          "text": [
            "1 9 9 7 8 1 7 1 8 1 2 8 2 8 9 8 2 8 8 9 \n"
          ]
        }
      ]
    },
    {
      "cell_type": "markdown",
      "source": [
        "랜덤을 사용해도 시드(seed)가 남아있어서\n",
        "시드를 정해주는데 주로 시간으로 시드를 정해준다"
      ],
      "metadata": {
        "id": "fsKkH4IizK5z"
      }
    },
    {
      "cell_type": "code",
      "source": [
        "np.random.seed(100)"
      ],
      "metadata": {
        "id": "mnh6vigVzjYp"
      },
      "execution_count": null,
      "outputs": []
    }
  ]
}